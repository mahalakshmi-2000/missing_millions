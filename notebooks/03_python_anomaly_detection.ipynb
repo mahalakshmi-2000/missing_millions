{
 "cells": [
  {
   "cell_type": "code",
   "execution_count": 21,
   "metadata": {},
   "outputs": [],
   "source": [
    "# 1. Import Libraries\n",
    "import pandas as pd\n",
    "import numpy as np\n",
    "import matplotlib.pyplot as plt\n",
    "import seaborn as sns\n",
    "\n",
    "from sklearn.ensemble import IsolationForest\n",
    "from sklearn.preprocessing import StandardScaler\n",
    "from sklearn.metrics import classification_report, confusion_matrix\n"
   ]
  },
  {
   "cell_type": "code",
   "execution_count": 22,
   "metadata": {},
   "outputs": [
    {
     "data": {
      "text/plain": [
       "(6362620, 13)"
      ]
     },
     "execution_count": 22,
     "metadata": {},
     "output_type": "execute_result"
    }
   ],
   "source": [
    "#Load clean data\n",
    "\n",
    "df = pd.read_csv(\"../data/cleaned_transactions.csv\")\n",
    "df.shape\n"
   ]
  },
  {
   "cell_type": "code",
   "execution_count": 23,
   "metadata": {},
   "outputs": [
    {
     "data": {
      "text/plain": [
       "(2770409, 13)"
      ]
     },
     "execution_count": 23,
     "metadata": {},
     "output_type": "execute_result"
    }
   ],
   "source": [
    "#Filter: Focus on 'TRANSFER' & 'CASH_OUT'\n",
    "df = df[df['type'].isin(['TRANSFER', 'CASH_OUT'])].copy()\n",
    "df.shape\n"
   ]
  },
  {
   "cell_type": "code",
   "execution_count": 24,
   "metadata": {},
   "outputs": [],
   "source": [
    "#Feature Engineering\n",
    "df['isHighAmount'] = df['amount'] > df['amount'].quantile(0.99)\n",
    "df['balanceChange'] = df['oldbalanceOrg'] - df['newbalanceOrig']\n",
    "df['hour'] = df['step'] % 24\n",
    "df['day'] = df['step'] // 24\n"
   ]
  },
  {
   "cell_type": "code",
   "execution_count": 25,
   "metadata": {},
   "outputs": [],
   "source": [
    "#5. Standardize Features\n",
    "features = ['amount', 'oldbalanceOrg', 'newbalanceOrig', 'balanceChange']\n",
    "scaler = StandardScaler()\n",
    "X = scaler.fit_transform(df[features])\n"
   ]
  },
  {
   "cell_type": "code",
   "execution_count": 26,
   "metadata": {},
   "outputs": [],
   "source": [
    "#6. Isolation Forest (Unsupervised Anomaly Detection)\n",
    "\n",
    "model = IsolationForest(n_estimators=100, contamination=0.001, random_state=42)\n",
    "df['anomaly_score'] = model.fit_predict(X)\n",
    "df['isAnomaly'] = (df['anomaly_score'] == -1).astype(int)\n"
   ]
  },
  {
   "cell_type": "code",
   "execution_count": 27,
   "metadata": {},
   "outputs": [
    {
     "name": "stderr",
     "output_type": "stream",
     "text": [
      "/var/folders/zw/q57nvchx4px_sjq5v4zf2nwc0000gn/T/ipykernel_48901/345437074.py:2: FutureWarning: \n",
      "\n",
      "Passing `palette` without assigning `hue` is deprecated and will be removed in v0.14.0. Assign the `x` variable to `hue` and set `legend=False` for the same effect.\n",
      "\n",
      "  sns.countplot(x='isAnomaly', data=df, palette='coolwarm')\n"
     ]
    },
    {
     "data": {
      "image/png": "[encoded data removed]",
      "text/plain": [
       "<Figure size 1000x600 with 1 Axes>"
      ]
     },
     "metadata": {},
     "output_type": "display_data"
    }
   ],
   "source": [
    "#7. Visualize Anomaly Score Distribution\n",
    "sns.countplot(x='isAnomaly', data=df, palette='coolwarm')\n",
    "plt.title(\"Isolation Forest - Anomaly Predictions\")\n",
    "plt.xticks([0, 1], [\"Normal\", \"Anomaly\"])\n",
    "plt.show()\n"
   ]
  },
  {
   "cell_type": "code",
   "execution_count": 28,
   "metadata": {},
   "outputs": [
    {
     "name": "stdout",
     "output_type": "stream",
     "text": [
      "Confusion Matrix:\n",
      "[[2760787    1409]\n",
      " [   6946    1267]]\n",
      "\n",
      "Classification Report:\n",
      "              precision    recall  f1-score   support\n",
      "\n",
      "           0       1.00      1.00      1.00   2762196\n",
      "           1       0.47      0.15      0.23      8213\n",
      "\n",
      "    accuracy                           1.00   2770409\n",
      "   macro avg       0.74      0.58      0.62   2770409\n",
      "weighted avg       1.00      1.00      1.00   2770409\n",
      "\n"
     ]
    }
   ],
   "source": [
    "#8. Evaluate Against Actual Labels\n",
    "print(\"Confusion Matrix:\")\n",
    "print(confusion_matrix(df['isFraud'], df['isAnomaly']))\n",
    "\n",
    "print(\"\\nClassification Report:\")\n",
    "print(classification_report(df['isFraud'], df['isAnomaly']))"
   ]
  },
  {
   "cell_type": "code",
   "execution_count": 29,
   "metadata": {},
   "outputs": [
    {
     "data": {
      "text/html": [
       "<div>\n",
       "<style scoped>\n",
       "    .dataframe tbody tr th:only-of-type {\n",
       "        vertical-align: middle;\n",
       "    }\n",
       "\n",
       "    .dataframe tbody tr th {\n",
       "        vertical-align: top;\n",
       "    }\n",
       "\n",
       "    .dataframe thead th {\n",
       "        text-align: right;\n",
       "    }\n",
       "</style>\n",
       "<table border=\"1\" class=\"dataframe\">\n",
       "  <thead>\n",
       "    <tr style=\"text-align: right;\">\n",
       "      <th></th>\n",
       "      <th>step</th>\n",
       "      <th>type</th>\n",
       "      <th>amount</th>\n",
       "      <th>nameOrig</th>\n",
       "      <th>oldbalanceOrg</th>\n",
       "      <th>newbalanceOrig</th>\n",
       "      <th>nameDest</th>\n",
       "      <th>oldbalanceDest</th>\n",
       "      <th>newbalanceDest</th>\n",
       "      <th>isFraud</th>\n",
       "      <th>isFlaggedFraud</th>\n",
       "      <th>hour</th>\n",
       "      <th>day</th>\n",
       "      <th>isHighAmount</th>\n",
       "      <th>balanceChange</th>\n",
       "      <th>anomaly_score</th>\n",
       "      <th>isAnomaly</th>\n",
       "    </tr>\n",
       "  </thead>\n",
       "  <tbody>\n",
       "    <tr>\n",
       "      <th>4157895</th>\n",
       "      <td>303</td>\n",
       "      <td>TRANSFER</td>\n",
       "      <td>37387628.10</td>\n",
       "      <td>C102829469</td>\n",
       "      <td>862621.88</td>\n",
       "      <td>0.0</td>\n",
       "      <td>C1997281537</td>\n",
       "      <td>37843025.59</td>\n",
       "      <td>7.523065e+07</td>\n",
       "      <td>0</td>\n",
       "      <td>0</td>\n",
       "      <td>15</td>\n",
       "      <td>12</td>\n",
       "      <td>True</td>\n",
       "      <td>862621.88</td>\n",
       "      <td>-1</td>\n",
       "      <td>1</td>\n",
       "    </tr>\n",
       "    <tr>\n",
       "      <th>4136960</th>\n",
       "      <td>303</td>\n",
       "      <td>TRANSFER</td>\n",
       "      <td>29802113.19</td>\n",
       "      <td>C1289440255</td>\n",
       "      <td>550210.01</td>\n",
       "      <td>0.0</td>\n",
       "      <td>C1496190878</td>\n",
       "      <td>48574467.89</td>\n",
       "      <td>1.542623e+08</td>\n",
       "      <td>0</td>\n",
       "      <td>0</td>\n",
       "      <td>15</td>\n",
       "      <td>12</td>\n",
       "      <td>True</td>\n",
       "      <td>550210.01</td>\n",
       "      <td>-1</td>\n",
       "      <td>1</td>\n",
       "    </tr>\n",
       "    <tr>\n",
       "      <th>4155239</th>\n",
       "      <td>303</td>\n",
       "      <td>TRANSFER</td>\n",
       "      <td>29642476.68</td>\n",
       "      <td>C1371587316</td>\n",
       "      <td>539407.79</td>\n",
       "      <td>0.0</td>\n",
       "      <td>C140277928</td>\n",
       "      <td>53476069.02</td>\n",
       "      <td>8.311855e+07</td>\n",
       "      <td>0</td>\n",
       "      <td>0</td>\n",
       "      <td>15</td>\n",
       "      <td>12</td>\n",
       "      <td>True</td>\n",
       "      <td>539407.79</td>\n",
       "      <td>-1</td>\n",
       "      <td>1</td>\n",
       "    </tr>\n",
       "    <tr>\n",
       "      <th>4098590</th>\n",
       "      <td>301</td>\n",
       "      <td>TRANSFER</td>\n",
       "      <td>11827804.14</td>\n",
       "      <td>C711214156</td>\n",
       "      <td>860642.26</td>\n",
       "      <td>0.0</td>\n",
       "      <td>C2003377069</td>\n",
       "      <td>13384116.82</td>\n",
       "      <td>2.521192e+07</td>\n",
       "      <td>0</td>\n",
       "      <td>0</td>\n",
       "      <td>13</td>\n",
       "      <td>12</td>\n",
       "      <td>True</td>\n",
       "      <td>860642.26</td>\n",
       "      <td>-1</td>\n",
       "      <td>1</td>\n",
       "    </tr>\n",
       "    <tr>\n",
       "      <th>4529310</th>\n",
       "      <td>326</td>\n",
       "      <td>TRANSFER</td>\n",
       "      <td>11093224.65</td>\n",
       "      <td>C1831789253</td>\n",
       "      <td>727449.73</td>\n",
       "      <td>0.0</td>\n",
       "      <td>C1501701470</td>\n",
       "      <td>17943243.79</td>\n",
       "      <td>2.903647e+07</td>\n",
       "      <td>0</td>\n",
       "      <td>0</td>\n",
       "      <td>14</td>\n",
       "      <td>13</td>\n",
       "      <td>True</td>\n",
       "      <td>727449.73</td>\n",
       "      <td>-1</td>\n",
       "      <td>1</td>\n",
       "    </tr>\n",
       "    <tr>\n",
       "      <th>4550880</th>\n",
       "      <td>327</td>\n",
       "      <td>TRANSFER</td>\n",
       "      <td>10893697.21</td>\n",
       "      <td>C1803111508</td>\n",
       "      <td>601660.70</td>\n",
       "      <td>0.0</td>\n",
       "      <td>C1033714356</td>\n",
       "      <td>14911019.34</td>\n",
       "      <td>2.580472e+07</td>\n",
       "      <td>0</td>\n",
       "      <td>0</td>\n",
       "      <td>15</td>\n",
       "      <td>13</td>\n",
       "      <td>True</td>\n",
       "      <td>601660.70</td>\n",
       "      <td>-1</td>\n",
       "      <td>1</td>\n",
       "    </tr>\n",
       "    <tr>\n",
       "      <th>4154934</th>\n",
       "      <td>303</td>\n",
       "      <td>TRANSFER</td>\n",
       "      <td>10876717.14</td>\n",
       "      <td>C1898217794</td>\n",
       "      <td>592861.99</td>\n",
       "      <td>0.0</td>\n",
       "      <td>C32884824</td>\n",
       "      <td>13086243.72</td>\n",
       "      <td>2.396296e+07</td>\n",
       "      <td>0</td>\n",
       "      <td>0</td>\n",
       "      <td>15</td>\n",
       "      <td>12</td>\n",
       "      <td>True</td>\n",
       "      <td>592861.99</td>\n",
       "      <td>-1</td>\n",
       "      <td>1</td>\n",
       "    </tr>\n",
       "    <tr>\n",
       "      <th>4554344</th>\n",
       "      <td>327</td>\n",
       "      <td>TRANSFER</td>\n",
       "      <td>10367319.82</td>\n",
       "      <td>C1835952163</td>\n",
       "      <td>552322.68</td>\n",
       "      <td>0.0</td>\n",
       "      <td>C1784564645</td>\n",
       "      <td>22702042.68</td>\n",
       "      <td>3.306936e+07</td>\n",
       "      <td>0</td>\n",
       "      <td>0</td>\n",
       "      <td>15</td>\n",
       "      <td>13</td>\n",
       "      <td>True</td>\n",
       "      <td>552322.68</td>\n",
       "      <td>-1</td>\n",
       "      <td>1</td>\n",
       "    </tr>\n",
       "    <tr>\n",
       "      <th>4551925</th>\n",
       "      <td>327</td>\n",
       "      <td>TRANSFER</td>\n",
       "      <td>10079894.57</td>\n",
       "      <td>C1037961127</td>\n",
       "      <td>553104.01</td>\n",
       "      <td>0.0</td>\n",
       "      <td>C1727128330</td>\n",
       "      <td>29134698.61</td>\n",
       "      <td>3.921459e+07</td>\n",
       "      <td>0</td>\n",
       "      <td>0</td>\n",
       "      <td>15</td>\n",
       "      <td>13</td>\n",
       "      <td>True</td>\n",
       "      <td>553104.01</td>\n",
       "      <td>-1</td>\n",
       "      <td>1</td>\n",
       "    </tr>\n",
       "    <tr>\n",
       "      <th>4589293</th>\n",
       "      <td>328</td>\n",
       "      <td>TRANSFER</td>\n",
       "      <td>10000000.00</td>\n",
       "      <td>C873866898</td>\n",
       "      <td>625805.00</td>\n",
       "      <td>0.0</td>\n",
       "      <td>C1071107520</td>\n",
       "      <td>42336.33</td>\n",
       "      <td>1.426981e+07</td>\n",
       "      <td>0</td>\n",
       "      <td>0</td>\n",
       "      <td>16</td>\n",
       "      <td>13</td>\n",
       "      <td>True</td>\n",
       "      <td>625805.00</td>\n",
       "      <td>-1</td>\n",
       "      <td>1</td>\n",
       "    </tr>\n",
       "  </tbody>\n",
       "</table>\n",
       "</div>"
      ],
      "text/plain": [
       "         step      type       amount     nameOrig  oldbalanceOrg  \\\n",
       "4157895   303  TRANSFER  37387628.10   C102829469      862621.88   \n",
       "4136960   303  TRANSFER  29802113.19  C1289440255      550210.01   \n",
       "4155239   303  TRANSFER  29642476.68  C1371587316      539407.79   \n",
       "4098590   301  TRANSFER  11827804.14   C711214156      860642.26   \n",
       "4529310   326  TRANSFER  11093224.65  C1831789253      727449.73   \n",
       "4550880   327  TRANSFER  10893697.21  C1803111508      601660.70   \n",
       "4154934   303  TRANSFER  10876717.14  C1898217794      592861.99   \n",
       "4554344   327  TRANSFER  10367319.82  C1835952163      552322.68   \n",
       "4551925   327  TRANSFER  10079894.57  C1037961127      553104.01   \n",
       "4589293   328  TRANSFER  10000000.00   C873866898      625805.00   \n",
       "\n",
       "         newbalanceOrig     nameDest  oldbalanceDest  newbalanceDest  isFraud  \\\n",
       "4157895             0.0  C1997281537     37843025.59    7.523065e+07        0   \n",
       "4136960             0.0  C1496190878     48574467.89    1.542623e+08        0   \n",
       "4155239             0.0   C140277928     53476069.02    8.311855e+07        0   \n",
       "4098590             0.0  C2003377069     13384116.82    2.521192e+07        0   \n",
       "4529310             0.0  C1501701470     17943243.79    2.903647e+07        0   \n",
       "4550880             0.0  C1033714356     14911019.34    2.580472e+07        0   \n",
       "4154934             0.0    C32884824     13086243.72    2.396296e+07        0   \n",
       "4554344             0.0  C1784564645     22702042.68    3.306936e+07        0   \n",
       "4551925             0.0  C1727128330     29134698.61    3.921459e+07        0   \n",
       "4589293             0.0  C1071107520        42336.33    1.426981e+07        0   \n",
       "\n",
       "         isFlaggedFraud  hour  day  isHighAmount  balanceChange  \\\n",
       "4157895               0    15   12          True      862621.88   \n",
       "4136960               0    15   12          True      550210.01   \n",
       "4155239               0    15   12          True      539407.79   \n",
       "4098590               0    13   12          True      860642.26   \n",
       "4529310               0    14   13          True      727449.73   \n",
       "4550880               0    15   13          True      601660.70   \n",
       "4154934               0    15   12          True      592861.99   \n",
       "4554344               0    15   13          True      552322.68   \n",
       "4551925               0    15   13          True      553104.01   \n",
       "4589293               0    16   13          True      625805.00   \n",
       "\n",
       "         anomaly_score  isAnomaly  \n",
       "4157895             -1          1  \n",
       "4136960             -1          1  \n",
       "4155239             -1          1  \n",
       "4098590             -1          1  \n",
       "4529310             -1          1  \n",
       "4550880             -1          1  \n",
       "4154934             -1          1  \n",
       "4554344             -1          1  \n",
       "4551925             -1          1  \n",
       "4589293             -1          1  "
      ]
     },
     "execution_count": 29,
     "metadata": {},
     "output_type": "execute_result"
    }
   ],
   "source": [
    "#9. Show Top Anomalous Transactions\n",
    "df[df['isAnomaly'] == 1].sort_values(by='amount', ascending=False).head(10)\n"
   ]
  },
  {
   "cell_type": "code",
   "execution_count": 30,
   "metadata": {},
   "outputs": [
    {
     "name": "stderr",
     "output_type": "stream",
     "text": [
      "/var/folders/zw/q57nvchx4px_sjq5v4zf2nwc0000gn/T/ipykernel_48901/487523880.py:4: FutureWarning: A value is trying to be set on a copy of a DataFrame or Series through chained assignment using an inplace method.\n",
      "The behavior will change in pandas 3.0. This inplace method will never work because the intermediate object on which we are setting values always behaves as a copy.\n",
      "\n",
      "For example, when doing 'df[col].method(value, inplace=True)', try using 'df.method({col: value}, inplace=True)' or df[col] = df[col].method(value) instead, to perform the operation inplace on the original object.\n",
      "\n",
      "\n",
      "  df['step_gap'].fillna(0, inplace=True)\n"
     ]
    }
   ],
   "source": [
    "# Group by sender and compute average time gap\n",
    "df['prev_step'] = df.groupby('nameOrig')['step'].shift(1)\n",
    "df['step_gap'] = df['step'] - df['prev_step']\n",
    "df['step_gap'].fillna(0, inplace=True)\n"
   ]
  },
  {
   "cell_type": "code",
   "execution_count": 31,
   "metadata": {},
   "outputs": [
    {
     "data": {
      "image/png": "[encoded data removed]",
      "text/plain": [
       "<Figure size 1000x600 with 1 Axes>"
      ]
     },
     "metadata": {},
     "output_type": "display_data"
    }
   ],
   "source": [
    "#11. Step Gap vs Fraud \n",
    "sns.boxplot(x='isFraud', y='step_gap', data=df)\n",
    "plt.title(\"Step Gap (Velocity) vs Fraud\")\n",
    "plt.show()\n"
   ]
  },
  {
   "cell_type": "code",
   "execution_count": 32,
   "metadata": {},
   "outputs": [
    {
     "name": "stderr",
     "output_type": "stream",
     "text": [
      "/var/folders/zw/q57nvchx4px_sjq5v4zf2nwc0000gn/T/ipykernel_48901/2255462060.py:2: FutureWarning: \n",
      "\n",
      "Passing `palette` without assigning `hue` is deprecated and will be removed in v0.14.0. Assign the `x` variable to `hue` and set `legend=False` for the same effect.\n",
      "\n",
      "  sns.barplot(\n",
      "/Users/mahalakshmirajabattula/Library/Mobile Documents/com~apple~CloudDocs/transaction_forensic_project/venv/lib/python3.13/site-packages/IPython/core/pylabtools.py:170: UserWarning: Glyph 8377 (\\N{INDIAN RUPEE SIGN}) missing from font(s) Arial.\n",
      "  fig.canvas.print_figure(bytes_io, **kw)\n"
     ]
    },
    {
     "data": {
      "image/png": "[encoded data removed]",
      "text/plain": [
       "<Figure size 1000x600 with 1 Axes>"
      ]
     },
     "metadata": {},
     "output_type": "display_data"
    }
   ],
   "source": [
    "#Visualize Fraud Amount vs Non-Fraud\n",
    "sns.barplot(\n",
    "    data=df.groupby(\"isFraud\")[\"amount\"].sum().reset_index(),\n",
    "    x=\"isFraud\",\n",
    "    y=\"amount\",\n",
    "    palette=[\"green\", \"red\"]\n",
    ")\n",
    "plt.xticks([0, 1], [\"Genuine\", \"Fraud\"])\n",
    "plt.title(\"Total Amount in Fraud vs Non-Fraud Transactions\")\n",
    "plt.ylabel(\"Total Amount (₹)\")\n",
    "plt.show()\n"
   ]
  },
  {
   "cell_type": "code",
   "execution_count": 33,
   "metadata": {},
   "outputs": [
    {
     "name": "stderr",
     "output_type": "stream",
     "text": [
      "/Users/mahalakshmirajabattula/Library/Mobile Documents/com~apple~CloudDocs/transaction_forensic_project/venv/lib/python3.13/site-packages/IPython/core/pylabtools.py:170: UserWarning: Glyph 8377 (\\N{INDIAN RUPEE SIGN}) missing from font(s) Arial.\n",
      "  fig.canvas.print_figure(bytes_io, **kw)\n"
     ]
    },
    {
     "data": {
      "image/png": "[encoded data removed]",
      "text/plain": [
       "<Figure size 1000x600 with 1 Axes>"
      ]
     },
     "metadata": {},
     "output_type": "display_data"
    }
   ],
   "source": [
    "#Create a Cumulative Fraud Over Time Plot\n",
    "df['fraud_amount'] = df['amount'] * df['isFraud']\n",
    "daily_loss = df.groupby(df['step'] // 24)['fraud_amount'].sum().cumsum()\n",
    "\n",
    "plt.plot(daily_loss, color='darkred')\n",
    "plt.title(\"Cumulative Fraud Loss Over Days\")\n",
    "plt.xlabel(\"Day\")\n",
    "plt.ylabel(\"Cumulative Loss (₹)\")\n",
    "plt.grid(True)\n",
    "plt.show()\n"
   ]
  },
  {
   "cell_type": "code",
   "execution_count": null,
   "metadata": {},
   "outputs": [],
   "source": []
  },
  {
   "cell_type": "code",
   "execution_count": null,
   "metadata": {},
   "outputs": [],
   "source": []
  },
  {
   "cell_type": "code",
   "execution_count": null,
   "metadata": {},
   "outputs": [],
   "source": []
  },
  {
   "cell_type": "code",
   "execution_count": null,
   "metadata": {},
   "outputs": [],
   "source": []
  },
  {
   "cell_type": "code",
   "execution_count": null,
   "metadata": {},
   "outputs": [],
   "source": []
  }
 ],
 "metadata": {
  "kernelspec": {
   "display_name": "venv",
   "language": "python",
   "name": "python3"
  },
  "language_info": {
   "codemirror_mode": {
    "name": "ipython",
    "version": 3
   },
   "file_extension": ".py",
   "mimetype": "text/x-python",
   "name": "python",
   "nbconvert_exporter": "python",
   "pygments_lexer": "ipython3",
   "version": "3.13.5"
  }
 },
 "nbformat": 4,
 "nbformat_minor": 2
}
